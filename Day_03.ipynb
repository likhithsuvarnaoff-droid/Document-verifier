{
  "nbformat": 4,
  "nbformat_minor": 0,
  "metadata": {
    "colab": {
      "provenance": [],
      "authorship_tag": "ABX9TyNeEFaMJfY3WeqHR7H7uYa9",
      "include_colab_link": true
    },
    "kernelspec": {
      "name": "python3",
      "display_name": "Python 3"
    },
    "language_info": {
      "name": "python"
    }
  },
  "cells": [
    {
      "cell_type": "markdown",
      "metadata": {
        "id": "view-in-github",
        "colab_type": "text"
      },
      "source": [
        "<a href=\"https://colab.research.google.com/github/likhithsuvarnaoff-droid/Document-verifier/blob/main/Day_03.ipynb\" target=\"_parent\"><img src=\"https://colab.research.google.com/assets/colab-badge.svg\" alt=\"Open In Colab\"/></a>"
      ]
    },
    {
      "cell_type": "code",
      "execution_count": 1,
      "metadata": {
        "id": "5RY0W-t3TKpS"
      },
      "outputs": [],
      "source": [
        "ticket_price=90\n",
        "wallet_size=100"
      ]
    },
    {
      "cell_type": "code",
      "source": [
        "ticket_price"
      ],
      "metadata": {
        "colab": {
          "base_uri": "https://localhost:8080/"
        },
        "id": "dV6xJUuoWJFR",
        "outputId": "7096dff0-085d-4ccd-8006-e37ee14ffdbd"
      },
      "execution_count": 2,
      "outputs": [
        {
          "output_type": "execute_result",
          "data": {
            "text/plain": [
              "90"
            ]
          },
          "metadata": {},
          "execution_count": 2
        }
      ]
    },
    {
      "cell_type": "code",
      "source": [
        "if wallet_size >= ticket_price:\n",
        "  print(\"i can go to the cinema\")\n",
        "else:\n",
        "  print(\"Sad😞\")"
      ],
      "metadata": {
        "colab": {
          "base_uri": "https://localhost:8080/"
        },
        "id": "V_ElvYmrWJSp",
        "outputId": "301e47eb-0efa-43a3-d2ca-32bec8c0d35f"
      },
      "execution_count": 8,
      "outputs": [
        {
          "output_type": "stream",
          "name": "stdout",
          "text": [
            "i can go to the cinema\n"
          ]
        }
      ]
    },
    {
      "cell_type": "code",
      "source": [
        "marks = 78\n",
        "\n",
        "if marks >= 90:\n",
        "  print(\"Grade A+\")\n",
        "elif marks >= 80:\n",
        "  print(\"Grade A\")\n",
        "elif marks >= 70:\n",
        "  print(\"Grade B+\")\n",
        "elif marks >= 60:\n",
        "  print(\"Grade B\")\n",
        "else:\n",
        "    print(\"fail\")\n"
      ],
      "metadata": {
        "colab": {
          "base_uri": "https://localhost:8080/"
        },
        "id": "zqokTXvoWJZ9",
        "outputId": "8ea09cbc-65ca-4c90-be51-4e2187493cf0"
      },
      "execution_count": 20,
      "outputs": [
        {
          "output_type": "stream",
          "name": "stdout",
          "text": [
            "Grade B+\n"
          ]
        }
      ]
    }
  ]
}